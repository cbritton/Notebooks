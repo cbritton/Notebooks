{
 "cells": [
  {
   "cell_type": "code",
   "execution_count": 1,
   "id": "f7e6ffef-ee74-4e25-9fb3-c9f85a8aae72",
   "metadata": {},
   "outputs": [],
   "source": [
    "import polars as pl\n",
    "import pandas as pd\n",
    "\n",
    "from pandas_datareader import data as pdr\n",
    "import yfinance as yf\n",
    "yf.pdr_override()"
   ]
  },
  {
   "cell_type": "markdown",
   "id": "21ad9be2-e2fc-455e-9326-2a83c0934c59",
   "metadata": {},
   "source": [
    "# Get data from yahoo"
   ]
  },
  {
   "cell_type": "code",
   "execution_count": 2,
   "id": "639329eb-a261-48bc-8bde-3a940eb21a4a",
   "metadata": {},
   "outputs": [
    {
     "name": "stdout",
     "output_type": "stream",
     "text": [
      "[*********************100%***********************]  1 of 1 completed\n"
     ]
    }
   ],
   "source": [
    "ticker = 'AMD'\n",
    "df = yf.download(ticker, interval = '1d', start='2010-01-01')"
   ]
  },
  {
   "cell_type": "markdown",
   "id": "89a9d42f-2693-4af2-b053-7821b56dd967",
   "metadata": {},
   "source": [
    "# Save to disk"
   ]
  },
  {
   "cell_type": "code",
   "execution_count": 3,
   "id": "5ee9e9f2-dab9-4b3f-8c0c-6b855064a14f",
   "metadata": {},
   "outputs": [],
   "source": [
    "df.to_csv(f'data/daily/{ticker}.csv')"
   ]
  },
  {
   "cell_type": "code",
   "execution_count": 4,
   "id": "31f94c71-fcad-41cf-910c-1f86a6c4bb3a",
   "metadata": {},
   "outputs": [
    {
     "data": {
      "text/plain": [
       "3420"
      ]
     },
     "execution_count": 4,
     "metadata": {},
     "output_type": "execute_result"
    }
   ],
   "source": [
    "len(df)"
   ]
  },
  {
   "cell_type": "markdown",
   "id": "63f2c578-bbc6-4476-9f58-b4c76955986d",
   "metadata": {},
   "source": [
    "## The csv file is 375k for the dates up to August 4, 2023"
   ]
  },
  {
   "cell_type": "code",
   "execution_count": 5,
   "id": "f8dd8ad7-0f32-41e5-a418-02cb54d593dd",
   "metadata": {},
   "outputs": [
    {
     "name": "stdout",
     "output_type": "stream",
     "text": [
      " Volume in drive F is TS1\n",
      " Volume Serial Number is B4DA-75AE\n",
      "\n",
      " Directory of F:\\chris\\workspace\\Notebooks\\data\\daily\n",
      "\n",
      "08/06/2023  08:14 PM    <DIR>          .\n",
      "08/06/2023  08:14 PM    <DIR>          ..\n",
      "08/06/2023  08:14 PM           374,027 AMD.csv\n",
      "               1 File(s)        374,027 bytes\n",
      "               2 Dir(s)  282,010,320,896 bytes free\n"
     ]
    }
   ],
   "source": [
    "!dir .\\\\data\\\\daily"
   ]
  },
  {
   "cell_type": "markdown",
   "id": "92847b03-4fd7-4c10-84ff-6ac11b8ad4be",
   "metadata": {},
   "source": [
    "## Instead, save as parquet"
   ]
  },
  {
   "cell_type": "code",
   "execution_count": 6,
   "id": "be5e9a28-84e8-4003-9bd7-55161aba4191",
   "metadata": {},
   "outputs": [],
   "source": [
    "df.to_parquet(f'data/daily/{ticker}.parquet')"
   ]
  },
  {
   "cell_type": "code",
   "execution_count": 7,
   "id": "bea8d477-8f6d-4d8c-8bff-bfe99533c3b6",
   "metadata": {},
   "outputs": [
    {
     "name": "stdout",
     "output_type": "stream",
     "text": [
      " Volume in drive F is TS1\n",
      " Volume Serial Number is B4DA-75AE\n",
      "\n",
      " Directory of F:\\chris\\workspace\\Notebooks\\data\\daily\n",
      "\n",
      "08/06/2023  08:14 PM    <DIR>          .\n",
      "08/06/2023  08:14 PM    <DIR>          ..\n",
      "08/06/2023  08:14 PM           374,027 AMD.csv\n",
      "08/06/2023  08:14 PM           147,147 AMD.parquet\n",
      "               2 File(s)        521,174 bytes\n",
      "               2 Dir(s)  282,010,173,440 bytes free\n"
     ]
    }
   ],
   "source": [
    "!dir .\\\\data\\\\daily"
   ]
  },
  {
   "cell_type": "markdown",
   "id": "bc3b77ab-ab86-41d2-9150-5126bb339fe3",
   "metadata": {},
   "source": [
    "# Let's switch to polars and clean up the columns\n",
    "\n",
    "In some instances, yf can return a fload for the volume. This can be a problem if you intend to search multiple files (as we will) and in one file, the volume is a float while another file is an int.  Also, searching multiple files is easier if we add the symbol as a column."
   ]
  },
  {
   "cell_type": "code",
   "execution_count": 8,
   "id": "f4e874c7-92c2-4ef3-bdc0-9cd51b6856d0",
   "metadata": {},
   "outputs": [],
   "source": [
    "df_pl = (pl.from_pandas(df.reset_index())\n",
    "    # add a column for the symbol\n",
    "    # cast the volume column to a type int64\n",
    "    .with_columns([\n",
    "        pl.lit(ticker).alias(\"Symbol\"),\n",
    "        pl.col(\"Volume\").cast(pl.Int64)\n",
    "    ])\n",
    ")"
   ]
  },
  {
   "cell_type": "code",
   "execution_count": 9,
   "id": "eda7af51-244a-46e3-8b1f-aa3eaef20c88",
   "metadata": {},
   "outputs": [
    {
     "data": {
      "text/html": [
       "<div><style>\n",
       ".dataframe > thead > tr > th,\n",
       ".dataframe > tbody > tr > td {\n",
       "  text-align: right;\n",
       "}\n",
       "</style>\n",
       "<small>shape: (5, 8)</small><table border=\"1\" class=\"dataframe\"><thead><tr><th>Date</th><th>Open</th><th>High</th><th>Low</th><th>Close</th><th>Adj Close</th><th>Volume</th><th>Symbol</th></tr><tr><td>datetime[ns]</td><td>f64</td><td>f64</td><td>f64</td><td>f64</td><td>f64</td><td>i64</td><td>str</td></tr></thead><tbody><tr><td>2010-01-04 00:00:00</td><td>9.79</td><td>9.9</td><td>9.68</td><td>9.7</td><td>9.7</td><td>18748700</td><td>&quot;AMD&quot;</td></tr><tr><td>2010-01-05 00:00:00</td><td>9.71</td><td>9.9</td><td>9.68</td><td>9.71</td><td>9.71</td><td>22145700</td><td>&quot;AMD&quot;</td></tr><tr><td>2010-01-06 00:00:00</td><td>9.68</td><td>9.76</td><td>9.55</td><td>9.57</td><td>9.57</td><td>18643400</td><td>&quot;AMD&quot;</td></tr><tr><td>2010-01-07 00:00:00</td><td>9.51</td><td>9.55</td><td>9.18</td><td>9.47</td><td>9.47</td><td>26806800</td><td>&quot;AMD&quot;</td></tr><tr><td>2010-01-08 00:00:00</td><td>9.37</td><td>9.47</td><td>9.29</td><td>9.43</td><td>9.43</td><td>13752800</td><td>&quot;AMD&quot;</td></tr></tbody></table></div>"
      ],
      "text/plain": [
       "shape: (5, 8)\n",
       "┌─────────────────────┬──────┬──────┬──────┬───────┬───────────┬──────────┬────────┐\n",
       "│ Date                ┆ Open ┆ High ┆ Low  ┆ Close ┆ Adj Close ┆ Volume   ┆ Symbol │\n",
       "│ ---                 ┆ ---  ┆ ---  ┆ ---  ┆ ---   ┆ ---       ┆ ---      ┆ ---    │\n",
       "│ datetime[ns]        ┆ f64  ┆ f64  ┆ f64  ┆ f64   ┆ f64       ┆ i64      ┆ str    │\n",
       "╞═════════════════════╪══════╪══════╪══════╪═══════╪═══════════╪══════════╪════════╡\n",
       "│ 2010-01-04 00:00:00 ┆ 9.79 ┆ 9.9  ┆ 9.68 ┆ 9.7   ┆ 9.7       ┆ 18748700 ┆ AMD    │\n",
       "│ 2010-01-05 00:00:00 ┆ 9.71 ┆ 9.9  ┆ 9.68 ┆ 9.71  ┆ 9.71      ┆ 22145700 ┆ AMD    │\n",
       "│ 2010-01-06 00:00:00 ┆ 9.68 ┆ 9.76 ┆ 9.55 ┆ 9.57  ┆ 9.57      ┆ 18643400 ┆ AMD    │\n",
       "│ 2010-01-07 00:00:00 ┆ 9.51 ┆ 9.55 ┆ 9.18 ┆ 9.47  ┆ 9.47      ┆ 26806800 ┆ AMD    │\n",
       "│ 2010-01-08 00:00:00 ┆ 9.37 ┆ 9.47 ┆ 9.29 ┆ 9.43  ┆ 9.43      ┆ 13752800 ┆ AMD    │\n",
       "└─────────────────────┴──────┴──────┴──────┴───────┴───────────┴──────────┴────────┘"
      ]
     },
     "execution_count": 9,
     "metadata": {},
     "output_type": "execute_result"
    }
   ],
   "source": [
    "df_pl.head(5)"
   ]
  },
  {
   "cell_type": "code",
   "execution_count": 10,
   "id": "f3898490-224a-43ef-bc1b-505ba78b687e",
   "metadata": {},
   "outputs": [],
   "source": [
    "df_pl.write_parquet(f'data/daily/{ticker}.parquet')"
   ]
  },
  {
   "cell_type": "code",
   "execution_count": 11,
   "id": "187b1493-1f0a-40aa-aa66-4673d30c9319",
   "metadata": {},
   "outputs": [
    {
     "name": "stdout",
     "output_type": "stream",
     "text": [
      " Volume in drive F is TS1\n",
      " Volume Serial Number is B4DA-75AE\n",
      "\n",
      " Directory of F:\\chris\\workspace\\Notebooks\\data\\daily\n",
      "\n",
      "08/06/2023  08:14 PM    <DIR>          .\n",
      "08/06/2023  08:14 PM    <DIR>          ..\n",
      "08/06/2023  08:14 PM           374,027 AMD.csv\n",
      "08/06/2023  08:14 PM            92,717 AMD.parquet\n",
      "               2 File(s)        466,744 bytes\n",
      "               2 Dir(s)  282,010,226,688 bytes free\n"
     ]
    }
   ],
   "source": [
    "!dir .\\\\data\\\\daily"
   ]
  },
  {
   "cell_type": "markdown",
   "id": "66a9af19-6d63-42b5-9e63-cf80dd5839c6",
   "metadata": {},
   "source": [
    "## Let's do it again but in 1 line"
   ]
  },
  {
   "cell_type": "code",
   "execution_count": 12,
   "id": "9b772bb2-0e15-4c3f-a2b7-32819c75b13e",
   "metadata": {},
   "outputs": [],
   "source": [
    "ticker = 'TLT'\n",
    "(pl.from_pandas(yf.download(ticker, interval = '1d', start='2010-01-01', progress=False).reset_index())\n",
    "    # add a column for the symbol\n",
    "    # cast the volume column to a type int64\n",
    "    .with_columns([\n",
    "        pl.lit(ticker).alias(\"Symbol\"),\n",
    "        pl.col(\"Volume\").cast(pl.Int64)\n",
    "    ])\n",
    "    .write_parquet(f'data/daily/{ticker}.parquet')\n",
    ")"
   ]
  },
  {
   "cell_type": "code",
   "execution_count": 13,
   "id": "0dfba99b-5664-4b02-8008-e24e15eb0bd2",
   "metadata": {},
   "outputs": [
    {
     "name": "stdout",
     "output_type": "stream",
     "text": [
      " Volume in drive F is TS1\n",
      " Volume Serial Number is B4DA-75AE\n",
      "\n",
      " Directory of F:\\chris\\workspace\\Notebooks\\data\\daily\n",
      "\n",
      "08/06/2023  08:14 PM    <DIR>          .\n",
      "08/06/2023  08:14 PM    <DIR>          ..\n",
      "08/06/2023  08:14 PM           374,027 AMD.csv\n",
      "08/06/2023  08:14 PM            92,717 AMD.parquet\n",
      "08/06/2023  08:14 PM            93,070 TLT.parquet\n",
      "               3 File(s)        559,814 bytes\n",
      "               2 Dir(s)  282,010,132,480 bytes free\n"
     ]
    }
   ],
   "source": [
    "!dir .\\\\data\\\\daily"
   ]
  },
  {
   "cell_type": "code",
   "execution_count": 14,
   "id": "707641ed-ef8d-4ae3-ad30-0185844a81db",
   "metadata": {},
   "outputs": [
    {
     "data": {
      "text/html": [
       "<div><style>\n",
       ".dataframe > thead > tr > th,\n",
       ".dataframe > tbody > tr > td {\n",
       "  text-align: right;\n",
       "}\n",
       "</style>\n",
       "<small>shape: (2, 3)</small><table border=\"1\" class=\"dataframe\"><thead><tr><th>Symbol</th><th>First Date</th><th>Last Date</th></tr><tr><td>str</td><td>datetime[ns]</td><td>datetime[ns]</td></tr></thead><tbody><tr><td>&quot;AMD&quot;</td><td>2010-01-04 00:00:00</td><td>2023-08-04 00:00:00</td></tr><tr><td>&quot;TLT&quot;</td><td>2010-01-04 00:00:00</td><td>2023-08-04 00:00:00</td></tr></tbody></table></div>"
      ],
      "text/plain": [
       "shape: (2, 3)\n",
       "┌────────┬─────────────────────┬─────────────────────┐\n",
       "│ Symbol ┆ First Date          ┆ Last Date           │\n",
       "│ ---    ┆ ---                 ┆ ---                 │\n",
       "│ str    ┆ datetime[ns]        ┆ datetime[ns]        │\n",
       "╞════════╪═════════════════════╪═════════════════════╡\n",
       "│ AMD    ┆ 2010-01-04 00:00:00 ┆ 2023-08-04 00:00:00 │\n",
       "│ TLT    ┆ 2010-01-04 00:00:00 ┆ 2023-08-04 00:00:00 │\n",
       "└────────┴─────────────────────┴─────────────────────┘"
      ]
     },
     "execution_count": 14,
     "metadata": {},
     "output_type": "execute_result"
    }
   ],
   "source": [
    "(pl.scan_parquet('data/daily/*.parquet')\n",
    "    .groupby(['Symbol'])\n",
    "    .agg(\n",
    "        pl.col(\"Date\").min().alias(\"First Date\"),\n",
    "        pl.col(\"Date\").max().alias(\"Last Date\")\n",
    "    )\n",
    "    .collect()\n",
    ")"
   ]
  },
  {
   "cell_type": "code",
   "execution_count": 15,
   "id": "24eb5f5c-a731-4319-8818-78abffab13c5",
   "metadata": {},
   "outputs": [],
   "source": [
    "ticker = 'SNOW'\n",
    "(pl.from_pandas(yf.download(ticker, interval = '1d', start='2010-01-01', progress=False).reset_index())\n",
    "    # add a column for the symbol\n",
    "    # cast the volume column to a type int64\n",
    "    .with_columns([\n",
    "        pl.lit(ticker).alias(\"Symbol\"),\n",
    "        pl.col(\"Volume\").cast(pl.Int64)\n",
    "    ])\n",
    "    .write_parquet(f'data/daily/{ticker}.parquet')\n",
    ")"
   ]
  },
  {
   "cell_type": "code",
   "execution_count": 16,
   "id": "bf78fc3f-83ae-4a9c-b98c-97f620a345f3",
   "metadata": {},
   "outputs": [
    {
     "data": {
      "text/html": [
       "<div><style>\n",
       ".dataframe > thead > tr > th,\n",
       ".dataframe > tbody > tr > td {\n",
       "  text-align: right;\n",
       "}\n",
       "</style>\n",
       "<small>shape: (3, 3)</small><table border=\"1\" class=\"dataframe\"><thead><tr><th>Symbol</th><th>First Date</th><th>Last Date</th></tr><tr><td>str</td><td>datetime[ns]</td><td>datetime[ns]</td></tr></thead><tbody><tr><td>&quot;SNOW&quot;</td><td>2020-09-16 00:00:00</td><td>2023-08-04 00:00:00</td></tr><tr><td>&quot;AMD&quot;</td><td>2010-01-04 00:00:00</td><td>2023-08-04 00:00:00</td></tr><tr><td>&quot;TLT&quot;</td><td>2010-01-04 00:00:00</td><td>2023-08-04 00:00:00</td></tr></tbody></table></div>"
      ],
      "text/plain": [
       "shape: (3, 3)\n",
       "┌────────┬─────────────────────┬─────────────────────┐\n",
       "│ Symbol ┆ First Date          ┆ Last Date           │\n",
       "│ ---    ┆ ---                 ┆ ---                 │\n",
       "│ str    ┆ datetime[ns]        ┆ datetime[ns]        │\n",
       "╞════════╪═════════════════════╪═════════════════════╡\n",
       "│ SNOW   ┆ 2020-09-16 00:00:00 ┆ 2023-08-04 00:00:00 │\n",
       "│ AMD    ┆ 2010-01-04 00:00:00 ┆ 2023-08-04 00:00:00 │\n",
       "│ TLT    ┆ 2010-01-04 00:00:00 ┆ 2023-08-04 00:00:00 │\n",
       "└────────┴─────────────────────┴─────────────────────┘"
      ]
     },
     "execution_count": 16,
     "metadata": {},
     "output_type": "execute_result"
    }
   ],
   "source": [
    "(pl.scan_parquet('data/daily/*.parquet')\n",
    "    .groupby(['Symbol'])\n",
    "    .agg(\n",
    "        pl.col(\"Date\").min().alias(\"First Date\"),\n",
    "        pl.col(\"Date\").max().alias(\"Last Date\")\n",
    "    )\n",
    "    .collect()\n",
    ")"
   ]
  },
  {
   "cell_type": "code",
   "execution_count": null,
   "id": "0b8cd58c-1aa9-42a6-b819-8bf43c85ef02",
   "metadata": {},
   "outputs": [],
   "source": []
  }
 ],
 "metadata": {
  "kernelspec": {
   "display_name": "Python 3 (ipykernel)",
   "language": "python",
   "name": "python3"
  },
  "language_info": {
   "codemirror_mode": {
    "name": "ipython",
    "version": 3
   },
   "file_extension": ".py",
   "mimetype": "text/x-python",
   "name": "python",
   "nbconvert_exporter": "python",
   "pygments_lexer": "ipython3",
   "version": "3.11.1"
  }
 },
 "nbformat": 4,
 "nbformat_minor": 5
}
