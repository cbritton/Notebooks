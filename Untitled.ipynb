{
 "cells": [
  {
   "cell_type": "code",
   "execution_count": 1,
   "id": "6fa568bb-cc48-4fa8-abff-04e1cff60465",
   "metadata": {},
   "outputs": [],
   "source": [
    "import polars as pl"
   ]
  },
  {
   "cell_type": "code",
   "execution_count": 5,
   "id": "304b7bf4-f045-44ce-94d8-0d7da8886eaf",
   "metadata": {},
   "outputs": [
    {
     "data": {
      "text/html": [
       "<div><style>\n",
       ".dataframe > thead > tr > th,\n",
       ".dataframe > tbody > tr > td {\n",
       "  text-align: right;\n",
       "}\n",
       "</style>\n",
       "<small>shape: (5, 6)</small><table border=\"1\" class=\"dataframe\"><thead><tr><th>Instrument</th><th>Timestamp</th><th>Bid</th><th>Ask</th><th>MarketDataType</th><th>Price,Volume</th></tr><tr><td>str</td><td>datetime[μs]</td><td>f64</td><td>f64</td><td>str</td><td>f64</td></tr></thead><tbody><tr><td>&quot;NQ 09-23&quot;</td><td>2023-08-18 00:00:00.164</td><td>14761.5</td><td>-inf</td><td>&quot;Bid&quot;</td><td>14761.5</td></tr><tr><td>&quot;NQ 09-23&quot;</td><td>2023-08-18 00:00:00.164</td><td>14761.5</td><td>14762.0</td><td>&quot;Ask&quot;</td><td>14762.0</td></tr><tr><td>&quot;NQ 09-23&quot;</td><td>2023-08-18 00:00:00.164</td><td>14761.5</td><td>14762.0</td><td>&quot;Last&quot;</td><td>14762.0</td></tr><tr><td>&quot;NQ 09-23&quot;</td><td>2023-08-18 00:00:00.164</td><td>-inf</td><td>-inf</td><td>&quot;DailyVolume&quot;</td><td>0.0</td></tr><tr><td>&quot;NQ 09-23&quot;</td><td>2023-08-18 00:00:00.164</td><td>14761.5</td><td>14762.0</td><td>&quot;Ask&quot;</td><td>14762.0</td></tr></tbody></table></div>"
      ],
      "text/plain": [
       "shape: (5, 6)\n",
       "┌────────────┬─────────────────────────┬─────────┬─────────┬────────────────┬──────────────┐\n",
       "│ Instrument ┆ Timestamp               ┆ Bid     ┆ Ask     ┆ MarketDataType ┆ Price,Volume │\n",
       "│ ---        ┆ ---                     ┆ ---     ┆ ---     ┆ ---            ┆ ---          │\n",
       "│ str        ┆ datetime[μs]            ┆ f64     ┆ f64     ┆ str            ┆ f64          │\n",
       "╞════════════╪═════════════════════════╪═════════╪═════════╪════════════════╪══════════════╡\n",
       "│ NQ 09-23   ┆ 2023-08-18 00:00:00.164 ┆ 14761.5 ┆ -inf    ┆ Bid            ┆ 14761.5      │\n",
       "│ NQ 09-23   ┆ 2023-08-18 00:00:00.164 ┆ 14761.5 ┆ 14762.0 ┆ Ask            ┆ 14762.0      │\n",
       "│ NQ 09-23   ┆ 2023-08-18 00:00:00.164 ┆ 14761.5 ┆ 14762.0 ┆ Last           ┆ 14762.0      │\n",
       "│ NQ 09-23   ┆ 2023-08-18 00:00:00.164 ┆ -inf    ┆ -inf    ┆ DailyVolume    ┆ 0.0          │\n",
       "│ NQ 09-23   ┆ 2023-08-18 00:00:00.164 ┆ 14761.5 ┆ 14762.0 ┆ Ask            ┆ 14762.0      │\n",
       "└────────────┴─────────────────────────┴─────────┴─────────┴────────────────┴──────────────┘"
      ]
     },
     "execution_count": 5,
     "metadata": {},
     "output_type": "execute_result"
    }
   ],
   "source": [
    "(pl.scan_csv(\"f:/data/nt/NQ 09-23.csv\", separator=\";\", try_parse_dates=True)\n",
    "    .fetch(5)\n",
    ")"
   ]
  },
  {
   "cell_type": "code",
   "execution_count": 15,
   "id": "ccd13529-7300-457c-8d64-6f7c0cf3d1d7",
   "metadata": {},
   "outputs": [],
   "source": [
    "df = (pl.scan_csv(\"f:/data/nt/NQ 09-23.csv\", separator=\";\", try_parse_dates=True)\n",
    "    .drop([\"Instrument\",\"Bid\",\"Ask\"])\n",
    "    .filter(\n",
    "        pl.col(\"MarketDataType\") == \"Last\"\n",
    "    )\n",
    "    .select([pl.col(\"Timestamp\",\"Price\",\"Volume\")])\n",
    "    \n",
    "    .collect()\n",
    ")"
   ]
  },
  {
   "cell_type": "code",
   "execution_count": 17,
   "id": "dd58e5f7-c13d-4ab4-b0db-1d6a82ab7a1f",
   "metadata": {},
   "outputs": [],
   "source": [
    "df.write_parquet(\"f:/data/NT/NQ 09_23.20230818.parquet\")"
   ]
  },
  {
   "cell_type": "code",
   "execution_count": 3,
   "id": "36791dfd-9f6c-4a40-bc18-c1edf4aaedfa",
   "metadata": {},
   "outputs": [
    {
     "data": {
      "text/html": [
       "<div><style>\n",
       ".dataframe > thead > tr > th,\n",
       ".dataframe > tbody > tr > td {\n",
       "  text-align: right;\n",
       "}\n",
       "</style>\n",
       "<small>shape: (10, 3)</small><table border=\"1\" class=\"dataframe\"><thead><tr><th>Timestamp</th><th>Price</th><th>Volume</th></tr><tr><td>datetime[μs]</td><td>f64</td><td>i64</td></tr></thead><tbody><tr><td>2023-08-18 00:00:00.164</td><td>14762.0</td><td>1</td></tr><tr><td>2023-08-18 00:00:00.164</td><td>14762.0</td><td>1</td></tr><tr><td>2023-08-18 00:00:00.164</td><td>14762.0</td><td>1</td></tr><tr><td>2023-08-18 00:00:00.488</td><td>14761.75</td><td>1</td></tr><tr><td>2023-08-18 00:00:01.840</td><td>14762.25</td><td>1</td></tr><tr><td>2023-08-18 00:00:10.436</td><td>14762.75</td><td>1</td></tr><tr><td>2023-08-18 00:00:10.436</td><td>14762.75</td><td>1</td></tr><tr><td>2023-08-18 00:00:11.216</td><td>14763.25</td><td>1</td></tr><tr><td>2023-08-18 00:00:11.728</td><td>14763.25</td><td>1</td></tr><tr><td>2023-08-18 00:00:16.516</td><td>14763.25</td><td>1</td></tr></tbody></table></div>"
      ],
      "text/plain": [
       "shape: (10, 3)\n",
       "┌─────────────────────────┬──────────┬────────┐\n",
       "│ Timestamp               ┆ Price    ┆ Volume │\n",
       "│ ---                     ┆ ---      ┆ ---    │\n",
       "│ datetime[μs]            ┆ f64      ┆ i64    │\n",
       "╞═════════════════════════╪══════════╪════════╡\n",
       "│ 2023-08-18 00:00:00.164 ┆ 14762.0  ┆ 1      │\n",
       "│ 2023-08-18 00:00:00.164 ┆ 14762.0  ┆ 1      │\n",
       "│ 2023-08-18 00:00:00.164 ┆ 14762.0  ┆ 1      │\n",
       "│ 2023-08-18 00:00:00.488 ┆ 14761.75 ┆ 1      │\n",
       "│ …                       ┆ …        ┆ …      │\n",
       "│ 2023-08-18 00:00:10.436 ┆ 14762.75 ┆ 1      │\n",
       "│ 2023-08-18 00:00:11.216 ┆ 14763.25 ┆ 1      │\n",
       "│ 2023-08-18 00:00:11.728 ┆ 14763.25 ┆ 1      │\n",
       "│ 2023-08-18 00:00:16.516 ┆ 14763.25 ┆ 1      │\n",
       "└─────────────────────────┴──────────┴────────┘"
      ]
     },
     "execution_count": 3,
     "metadata": {},
     "output_type": "execute_result"
    }
   ],
   "source": [
    "(pl.scan_parquet(\"f:/data/NT/NQ 09_23.20230818.parquet\")\n",
    "    .fetch(10)\n",
    ")"
   ]
  },
  {
   "cell_type": "code",
   "execution_count": null,
   "id": "52b9f739-fdd5-4cb1-8891-0af0f3ed1ef8",
   "metadata": {},
   "outputs": [],
   "source": []
  }
 ],
 "metadata": {
  "kernelspec": {
   "display_name": "Python 3 (ipykernel)",
   "language": "python",
   "name": "python3"
  },
  "language_info": {
   "codemirror_mode": {
    "name": "ipython",
    "version": 3
   },
   "file_extension": ".py",
   "mimetype": "text/x-python",
   "name": "python",
   "nbconvert_exporter": "python",
   "pygments_lexer": "ipython3",
   "version": "3.11.1"
  }
 },
 "nbformat": 4,
 "nbformat_minor": 5
}
