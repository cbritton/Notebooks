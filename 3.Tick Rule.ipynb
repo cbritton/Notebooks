{
 "cells": [
  {
   "cell_type": "markdown",
   "id": "bd046009-596a-4910-8a5c-93d3c8471205",
   "metadata": {},
   "source": [
    "# 3. Tick Rule\n",
    "\n",
    "A way to determine the buying and selling aggressors when only basic tick data is available is the tick rule.  It's simple and fast: if the current price is above the previous price, then it's an aggressive buyer, if current price is below the previous price, then it's an aggressive seller, if the current price is the same as the previous, then base the aggressor from the previous.\n",
    "\n",
    "Because the leading data won't have a previous price, the direction can't be known until a price change occurs."
   ]
  },
  {
   "cell_type": "code",
   "execution_count": null,
   "id": "64bee555-1623-4e87-85db-2df5cf8bdda3",
   "metadata": {},
   "outputs": [],
   "source": [
    "import polars as pl\n",
    "import plotly.graph_objects as go\n",
    "from plotly.subplots import make_subplots\n",
    "import arrow"
   ]
  },
  {
   "cell_type": "code",
   "execution_count": null,
   "id": "d7f9a0a9-a92e-435d-b8c8-579a5e395385",
   "metadata": {},
   "outputs": [],
   "source": [
    "tick_directory = \"./data/tick\"\n",
    "filename = f\"{tick_directory}/NQ_09_23.20230818.parquet\"\n",
    "\n",
    "(pl.scan_parquet(filename)\n",
    "    .fetch(5)\n",
    ")"
   ]
  },
  {
   "cell_type": "markdown",
   "id": "26222457-4edd-4da9-b99c-b285dd265c2f",
   "metadata": {},
   "source": [
    "## Use the tick rule to determine the trade direction"
   ]
  },
  {
   "cell_type": "code",
   "execution_count": null,
   "id": "58dbe7f4-e2fe-4fe5-85a4-5497171e93aa",
   "metadata": {},
   "outputs": [],
   "source": [
    "lf = (pl.scan_parquet(filename)\n",
    "    # sort the data\n",
    "    .sort(\"Timestamp\")\n",
    "    # use the when function to determine the direction.\n",
    "    .with_columns(\n",
    "        # if the current price > previous price, then set the \"tick direction\" column\n",
    "        # to 1.  If the current price < previous price, the set the \"tick direction\" column\n",
    "        # to -1. Otherwise, set the value to None.\n",
    "        pl.when(pl.col(\"Price\") > pl.col(\"Price\").shift())\n",
    "            .then(pl.lit(1))\n",
    "            .when(pl.col(\"Price\") < pl.col(\"Price\").shift())\n",
    "            .then(pl.lit(-1))\n",
    "        \n",
    "            # if the prices are equal, then fill in with \"None\" or null\n",
    "            .otherwise(pl.lit(None))\n",
    "        \n",
    "            .alias(\"tick direction\")\n",
    "    )\n",
    "    # use the fill_null function to fill in the null values using the forward (fill) strategy\n",
    "    .with_columns(\n",
    "       pl.col(\"tick direction\").fill_null(strategy=\"forward\")\n",
    "    )\n",
    "    # multiply the volume column by the tick direction column to get the bid/ask volume\n",
    "    .with_columns(\n",
    "        (pl.col(\"Volume\") * pl.col(\"tick direction\")).alias(\"tick direction\")\n",
    "    )\n",
    "    # the first few rows will have a null tick direction value, so we'll drop these\n",
    "    .drop_nulls()\n",
    ")"
   ]
  },
  {
   "cell_type": "code",
   "execution_count": null,
   "id": "7d0e7f22-67b3-469c-b77b-152c153478af",
   "metadata": {},
   "outputs": [],
   "source": [
    "lf.fetch(10)"
   ]
  },
  {
   "cell_type": "markdown",
   "id": "0fd41fdd-e9b2-4e4b-b925-3814c9dab860",
   "metadata": {},
   "source": [
    "## Use group_dynamic() to create a time based chart"
   ]
  },
  {
   "cell_type": "code",
   "execution_count": null,
   "id": "c7a113b0-0ea5-4068-9e8e-9876871e026d",
   "metadata": {},
   "outputs": [],
   "source": [
    "interval=\"5m\"\n",
    "# using the time interval bars.\n",
    "lf2 = (lf\n",
    "    # first, limit what data we want to look at\n",
    "    .filter(\n",
    "        pl.col(\"Timestamp\").is_between(\n",
    "            arrow.get(\"2023-08-18 08:00\").datetime.replace(tzinfo=None),\n",
    "            arrow.get(\"2023-08-18 16:15\").datetime.replace(tzinfo=None)\n",
    "        )\n",
    "    )\n",
    "    .sort(\"Timestamp\")\n",
    "    # resample the data\n",
    "    .groupby_dynamic(\"Timestamp\", every=interval)\n",
    "    .agg(\n",
    "        pl.col(\"Price\").first().alias(\"Open\"),\n",
    "        pl.col(\"Price\").max().alias(\"High\"),\n",
    "        pl.col(\"Price\").min().alias(\"Low\"),\n",
    "        pl.col(\"Price\").last().alias(\"Close\"),\n",
    "        pl.col(\"Volume\").sum().alias(\"Volume\"),\n",
    "        \n",
    "        # the \"tick direction\" column contains the +/- volume\n",
    "        # so summing this will get the delta\n",
    "        pl.col(\"tick direction\").sum().alias(\"Delta\")\n",
    "    )\n",
    "    \n",
    "    # then use the cumsum() function to keep a running total the delta.\n",
    "    # i.e. cumulative delta\n",
    "    .with_columns(\n",
    "        pl.col(\"Delta\").cumsum().alias(\"Cumulative Delta\")\n",
    "    )\n",
    ")"
   ]
  },
  {
   "cell_type": "code",
   "execution_count": null,
   "id": "39837824-53a4-440c-80ff-8cfdca0f3b35",
   "metadata": {},
   "outputs": [],
   "source": [
    "df = lf2.collect()"
   ]
  },
  {
   "cell_type": "markdown",
   "id": "cb911188-8802-4854-b86f-111c41491c19",
   "metadata": {},
   "source": [
    "## Plot the data"
   ]
  },
  {
   "cell_type": "code",
   "execution_count": null,
   "id": "f77e527a-5fc4-4880-96e0-4724e6719921",
   "metadata": {},
   "outputs": [],
   "source": [
    "# get the date from the data.\n",
    "# we'll use this on the plots.\n",
    "chart_date = arrow.get(df.row(1,named=True).get(\"Timestamp\"))"
   ]
  },
  {
   "cell_type": "code",
   "execution_count": null,
   "id": "77a7b5ad-ada5-40ab-9143-11df0ceb7658",
   "metadata": {},
   "outputs": [],
   "source": [
    "fig = go.Figure()\n",
    "\n",
    "candlestick_trace = go.Candlestick(\n",
    "            x=df[\"Timestamp\"],\n",
    "            open=df['Open'],\n",
    "            high=df['High'],\n",
    "            low=df['Low'],\n",
    "            close=df['Close']\n",
    "        )\n",
    "\n",
    "fig.add_trace(candlestick_trace)\n",
    "\n",
    "fig.update_layout(\n",
    "    title=f\"NQ - {chart_date.format('YYYY-MM-DD')}\",\n",
    "    height=600,\n",
    "    width=1000,\n",
    "    template=\"plotly_dark\",\n",
    "    xaxis_rangeslider_visible=False,\n",
    "    showlegend=False\n",
    ")\n",
    "\n",
    "fig.show()   "
   ]
  },
  {
   "cell_type": "markdown",
   "id": "c4dfa1db-c24d-4526-8629-3501e5c4c199",
   "metadata": {},
   "source": [
    "## Overlay the cumulative delta on the price chart"
   ]
  },
  {
   "cell_type": "code",
   "execution_count": null,
   "id": "c41776f8-81e7-4439-a49a-781d5d0a88d0",
   "metadata": {},
   "outputs": [],
   "source": [
    "fig = make_subplots(specs=[[{\"secondary_y\": True}]])\n",
    "\n",
    "candlestick_trace = go.Candlestick(\n",
    "            x=df[\"Timestamp\"],\n",
    "            open=df['Open'],\n",
    "            high=df['High'],\n",
    "            low=df['Low'],\n",
    "            close=df['Close']\n",
    "        )\n",
    "\n",
    "fig.add_trace(candlestick_trace, secondary_y=False)\n",
    "\n",
    "# create the markers dictionary for cumulative delta\n",
    "# scale the volume for the marker size\n",
    "markers = dict(\n",
    "    size = [int(x*.001) for x in df.get_column(\"Volume\")],\n",
    "    color = [\"cyan\"]* df.get_column(\"Volume\").shape[0]\n",
    ")\n",
    "cumulative_delta_Trace = go.Scatter(\n",
    "        x=df['Timestamp'],\n",
    "        y=df['Cumulative Delta'],\n",
    "        name='Cumulative Delta',\n",
    "        mode=\"markers\",\n",
    "        marker=markers\n",
    "    )\n",
    "\n",
    "fig.add_trace(cumulative_delta_Trace, secondary_y=True)\n",
    "\n",
    "fig.update_layout(\n",
    "    title=f\"NQ / Cumulative Delta - {chart_date.format('YYYY-MM-DD')}\",\n",
    "    height=600,\n",
    "    width=1000,\n",
    "    template=\"plotly_dark\",\n",
    "    xaxis_rangeslider_visible=False,\n",
    "    showlegend=False\n",
    ")\n",
    "\n",
    "fig.show()   \n"
   ]
  },
  {
   "cell_type": "code",
   "execution_count": null,
   "id": "375d04fa-3098-40e2-90e9-1d581642b56b",
   "metadata": {},
   "outputs": [],
   "source": []
  }
 ],
 "metadata": {
  "kernelspec": {
   "display_name": "Python 3 (ipykernel)",
   "language": "python",
   "name": "python3"
  },
  "language_info": {
   "codemirror_mode": {
    "name": "ipython",
    "version": 3
   },
   "file_extension": ".py",
   "mimetype": "text/x-python",
   "name": "python",
   "nbconvert_exporter": "python",
   "pygments_lexer": "ipython3",
   "version": "3.11.1"
  }
 },
 "nbformat": 4,
 "nbformat_minor": 5
}
