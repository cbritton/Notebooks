{
 "cells": [
  {
   "cell_type": "markdown",
   "id": "bd046009-596a-4910-8a5c-93d3c8471205",
   "metadata": {},
   "source": []
  },
  {
   "cell_type": "code",
   "execution_count": 8,
   "id": "64bee555-1623-4e87-85db-2df5cf8bdda3",
   "metadata": {},
   "outputs": [],
   "source": [
    "import polars as pl"
   ]
  },
  {
   "cell_type": "code",
   "execution_count": 32,
   "id": "25f01d6a-fd23-4a70-8a0c-8eecc0f9e0aa",
   "metadata": {},
   "outputs": [],
   "source": [
    "filename = \"./data/tick/NQ 09_23.20230818.parquet\""
   ]
  },
  {
   "cell_type": "code",
   "execution_count": 33,
   "id": "96e5b9d5-d862-42d5-8331-daa595aa8c12",
   "metadata": {},
   "outputs": [
    {
     "ename": "FileNotFoundError",
     "evalue": "No such file or directory: ./data/tick/NQ 09_23.20230818.parquet",
     "output_type": "error",
     "traceback": [
      "\u001b[1;31m---------------------------------------------------------------------------\u001b[0m",
      "\u001b[1;31mFileNotFoundError\u001b[0m                         Traceback (most recent call last)",
      "Cell \u001b[1;32mIn[33], line 1\u001b[0m\n\u001b[1;32m----> 1\u001b[0m (\u001b[43mpl\u001b[49m\u001b[38;5;241;43m.\u001b[39;49m\u001b[43mscan_parquet\u001b[49m\u001b[43m(\u001b[49m\u001b[43mfilename\u001b[49m\u001b[43m)\u001b[49m\n\u001b[0;32m      2\u001b[0m     \u001b[38;5;241m.\u001b[39mfetch(\u001b[38;5;241m10\u001b[39m)\n\u001b[0;32m      3\u001b[0m )\n",
      "File \u001b[1;32mF:\\Chris\\workspace\\Notebooks\\Lib\\site-packages\\polars\\io\\parquet\\functions.py:231\u001b[0m, in \u001b[0;36mscan_parquet\u001b[1;34m(source, n_rows, cache, parallel, rechunk, row_count_name, row_count_offset, storage_options, low_memory, use_statistics)\u001b[0m\n\u001b[0;32m    228\u001b[0m \u001b[38;5;28;01mif\u001b[39;00m \u001b[38;5;28misinstance\u001b[39m(source, (\u001b[38;5;28mstr\u001b[39m, Path)):\n\u001b[0;32m    229\u001b[0m     source \u001b[38;5;241m=\u001b[39m normalise_filepath(source)\n\u001b[1;32m--> 231\u001b[0m \u001b[38;5;28;01mreturn\u001b[39;00m \u001b[43mpl\u001b[49m\u001b[38;5;241;43m.\u001b[39;49m\u001b[43mLazyFrame\u001b[49m\u001b[38;5;241;43m.\u001b[39;49m\u001b[43m_scan_parquet\u001b[49m\u001b[43m(\u001b[49m\n\u001b[0;32m    232\u001b[0m \u001b[43m    \u001b[49m\u001b[43msource\u001b[49m\u001b[43m,\u001b[49m\n\u001b[0;32m    233\u001b[0m \u001b[43m    \u001b[49m\u001b[43mn_rows\u001b[49m\u001b[38;5;241;43m=\u001b[39;49m\u001b[43mn_rows\u001b[49m\u001b[43m,\u001b[49m\n\u001b[0;32m    234\u001b[0m \u001b[43m    \u001b[49m\u001b[43mcache\u001b[49m\u001b[38;5;241;43m=\u001b[39;49m\u001b[43mcache\u001b[49m\u001b[43m,\u001b[49m\n\u001b[0;32m    235\u001b[0m \u001b[43m    \u001b[49m\u001b[43mparallel\u001b[49m\u001b[38;5;241;43m=\u001b[39;49m\u001b[43mparallel\u001b[49m\u001b[43m,\u001b[49m\n\u001b[0;32m    236\u001b[0m \u001b[43m    \u001b[49m\u001b[43mrechunk\u001b[49m\u001b[38;5;241;43m=\u001b[39;49m\u001b[43mrechunk\u001b[49m\u001b[43m,\u001b[49m\n\u001b[0;32m    237\u001b[0m \u001b[43m    \u001b[49m\u001b[43mrow_count_name\u001b[49m\u001b[38;5;241;43m=\u001b[39;49m\u001b[43mrow_count_name\u001b[49m\u001b[43m,\u001b[49m\n\u001b[0;32m    238\u001b[0m \u001b[43m    \u001b[49m\u001b[43mrow_count_offset\u001b[49m\u001b[38;5;241;43m=\u001b[39;49m\u001b[43mrow_count_offset\u001b[49m\u001b[43m,\u001b[49m\n\u001b[0;32m    239\u001b[0m \u001b[43m    \u001b[49m\u001b[43mstorage_options\u001b[49m\u001b[38;5;241;43m=\u001b[39;49m\u001b[43mstorage_options\u001b[49m\u001b[43m,\u001b[49m\n\u001b[0;32m    240\u001b[0m \u001b[43m    \u001b[49m\u001b[43mlow_memory\u001b[49m\u001b[38;5;241;43m=\u001b[39;49m\u001b[43mlow_memory\u001b[49m\u001b[43m,\u001b[49m\n\u001b[0;32m    241\u001b[0m \u001b[43m    \u001b[49m\u001b[43muse_statistics\u001b[49m\u001b[38;5;241;43m=\u001b[39;49m\u001b[43muse_statistics\u001b[49m\u001b[43m,\u001b[49m\n\u001b[0;32m    242\u001b[0m \u001b[43m\u001b[49m\u001b[43m)\u001b[49m\n",
      "File \u001b[1;32mF:\\Chris\\workspace\\Notebooks\\Lib\\site-packages\\polars\\lazyframe\\frame.py:438\u001b[0m, in \u001b[0;36mLazyFrame._scan_parquet\u001b[1;34m(cls, source, n_rows, cache, parallel, rechunk, row_count_name, row_count_offset, storage_options, low_memory, use_statistics)\u001b[0m\n\u001b[0;32m    436\u001b[0m \u001b[38;5;66;03m# try fsspec scanner\u001b[39;00m\n\u001b[0;32m    437\u001b[0m \u001b[38;5;28;01mif\u001b[39;00m \u001b[38;5;129;01mnot\u001b[39;00m _is_local_file(source):\n\u001b[1;32m--> 438\u001b[0m     scan \u001b[38;5;241m=\u001b[39m \u001b[43m_scan_parquet_fsspec\u001b[49m\u001b[43m(\u001b[49m\u001b[43msource\u001b[49m\u001b[43m,\u001b[49m\u001b[43m \u001b[49m\u001b[43mstorage_options\u001b[49m\u001b[43m)\u001b[49m\n\u001b[0;32m    439\u001b[0m     \u001b[38;5;28;01mif\u001b[39;00m n_rows:\n\u001b[0;32m    440\u001b[0m         scan \u001b[38;5;241m=\u001b[39m scan\u001b[38;5;241m.\u001b[39mhead(n_rows)\n",
      "File \u001b[1;32mF:\\Chris\\workspace\\Notebooks\\Lib\\site-packages\\polars\\io\\parquet\\anonymous_scan.py:22\u001b[0m, in \u001b[0;36m_scan_parquet_fsspec\u001b[1;34m(source, storage_options)\u001b[0m\n\u001b[0;32m     20\u001b[0m storage_options \u001b[38;5;241m=\u001b[39m storage_options \u001b[38;5;129;01mor\u001b[39;00m {}\n\u001b[0;32m     21\u001b[0m \u001b[38;5;28;01mwith\u001b[39;00m _prepare_file_arg(source, \u001b[38;5;241m*\u001b[39m\u001b[38;5;241m*\u001b[39mstorage_options) \u001b[38;5;28;01mas\u001b[39;00m data:\n\u001b[1;32m---> 22\u001b[0m     schema \u001b[38;5;241m=\u001b[39m \u001b[43mpolars\u001b[49m\u001b[38;5;241;43m.\u001b[39;49m\u001b[43mio\u001b[49m\u001b[38;5;241;43m.\u001b[39;49m\u001b[43mparquet\u001b[49m\u001b[38;5;241;43m.\u001b[39;49m\u001b[43mread_parquet_schema\u001b[49m\u001b[43m(\u001b[49m\u001b[43mdata\u001b[49m\u001b[43m)\u001b[49m\n\u001b[0;32m     24\u001b[0m \u001b[38;5;28;01mreturn\u001b[39;00m pl\u001b[38;5;241m.\u001b[39mLazyFrame\u001b[38;5;241m.\u001b[39m_scan_python_function(schema, func)\n",
      "File \u001b[1;32mF:\\Chris\\workspace\\Notebooks\\Lib\\site-packages\\polars\\io\\parquet\\functions.py:165\u001b[0m, in \u001b[0;36mread_parquet_schema\u001b[1;34m(source)\u001b[0m\n\u001b[0;32m    162\u001b[0m \u001b[38;5;28;01mif\u001b[39;00m \u001b[38;5;28misinstance\u001b[39m(source, (\u001b[38;5;28mstr\u001b[39m, Path)):\n\u001b[0;32m    163\u001b[0m     source \u001b[38;5;241m=\u001b[39m normalise_filepath(source)\n\u001b[1;32m--> 165\u001b[0m \u001b[38;5;28;01mreturn\u001b[39;00m \u001b[43m_read_parquet_schema\u001b[49m\u001b[43m(\u001b[49m\u001b[43msource\u001b[49m\u001b[43m)\u001b[49m\n",
      "\u001b[1;31mFileNotFoundError\u001b[0m: No such file or directory: ./data/tick/NQ 09_23.20230818.parquet"
     ]
    }
   ],
   "source": [
    "(pl.scan_parquet(filename)\n",
    "    .fetch(10)\n",
    ")"
   ]
  },
  {
   "cell_type": "code",
   "execution_count": 31,
   "id": "726ea385-4162-4868-af2c-aa49c9e46955",
   "metadata": {},
   "outputs": [
    {
     "name": "stdout",
     "output_type": "stream",
     "text": [
      " Volume in drive F is TS1\n",
      " Volume Serial Number is B4DA-75AE\n",
      "\n",
      " Directory of F:\\Chris\\workspace\\Notebooks\\data\\tick\n",
      "\n"
     ]
    },
    {
     "name": "stderr",
     "output_type": "stream",
     "text": [
      "File Not Found\n"
     ]
    }
   ],
   "source": [
    "!dir .\\\\data"
   ]
  },
  {
   "cell_type": "code",
   "execution_count": null,
   "id": "58dbe7f4-e2fe-4fe5-85a4-5497171e93aa",
   "metadata": {},
   "outputs": [],
   "source": []
  }
 ],
 "metadata": {
  "kernelspec": {
   "display_name": "Python 3 (ipykernel)",
   "language": "python",
   "name": "python3"
  },
  "language_info": {
   "codemirror_mode": {
    "name": "ipython",
    "version": 3
   },
   "file_extension": ".py",
   "mimetype": "text/x-python",
   "name": "python",
   "nbconvert_exporter": "python",
   "pygments_lexer": "ipython3",
   "version": "3.11.1"
  }
 },
 "nbformat": 4,
 "nbformat_minor": 5
}
