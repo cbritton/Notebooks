{
 "cells": [
  {
   "cell_type": "markdown",
   "id": "63f3e700-41e8-4ff8-aa6b-7ac98d2917a9",
   "metadata": {},
   "source": [
    "# Momentum Strategy\n",
    "\n",
    "Sample momentum algorithm using polars.\n",
    "\n",
    "Using daily data, apply these rules to find stocks ready to take off.\n",
    "\n",
    "- close > 1.3 of the 52 week low\n",
    "- close < .9 of the 52 week high \n",
    "- close > 50 day simple moving average (SMA)\n",
    "- 50 day SMA> 150 day SMA\n",
    "- 150 day SMA > 200 day SMA\n",
    "- 200 day SMA > 200 day SMA from 1 month ago\n",
    "- RSI 1 month ago >= 80"
   ]
  },
  {
   "cell_type": "code",
   "execution_count": 1,
   "id": "99856fba-67f7-4646-9868-2845dd1880f1",
   "metadata": {},
   "outputs": [],
   "source": [
    "import polars as pl\n",
    "import arrow\n",
    "import talib\n",
    "from glob import glob\n",
    "from tqdm.notebook import tqdm"
   ]
  },
  {
   "cell_type": "code",
   "execution_count": 2,
   "id": "7ea91c58-ecf2-4e65-8702-7ff1fbdb56ce",
   "metadata": {},
   "outputs": [],
   "source": [
    "# use glob to grab the list of parquet files\n",
    "daily_dir = \"./data/daily\"\n",
    "file_list = glob(f\"{daily_dir}/*.parquet\")"
   ]
  },
  {
   "cell_type": "code",
   "execution_count": 3,
   "id": "db6c921c-2495-4206-8123-d20013de3005",
   "metadata": {},
   "outputs": [],
   "source": [
    "def momentum_algo(filename, rsi_lookback=14):\n",
    "    lf=(pl.scan_parquet(filename)\n",
    "        \n",
    "        # only need to calculate the last 52 weeks\n",
    "        .filter(\n",
    "            pl.col(\"Date\") > arrow.now().shift(weeks=-52).datetime.replace(tzinfo=None)\n",
    "        )\n",
    "        .sort(\"Date\")\n",
    "        \n",
    "        # some basic TA functions\n",
    "        .with_columns(\n",
    "            [\n",
    "                pl.col(\"Adj Close\").rolling_mean(window_size=200).alias(\"200 SMA\"),\n",
    "                pl.col(\"Adj Close\").rolling_mean(window_size=150).alias(\"150 SMA\"),\n",
    "                pl.col(\"Adj Close\").rolling_mean(window_size=50).alias(\"50 SMA\"),\n",
    "                \n",
    "                # For RSI, we use the rolling_map function. The map returns a list\n",
    "                # in the rolling period which is sent to the talib.RSI function.\n",
    "                # Since we only need the last data value from the RSI computation, \n",
    "                # we just grab the last element.\n",
    "                pl.col(\"Adj Close\").rolling_map(\n",
    "                    # the timeperiod for RSI is 1 less than the length of data.\n",
    "                    lambda d: talib.RSI(d.to_numpy(), timeperiod=(len(d)-1))[-1],\n",
    "                    window_size=rsi_lookback\n",
    "                ).alias(\"RSI\"),\n",
    "                pl.col(\"High\").max().alias(\"52 week high\"),\n",
    "                pl.col(\"Low\").min().alias(\"52 week low\"),\n",
    "            ]\n",
    "        )\n",
    "        \n",
    "        # get the 2 month old values\n",
    "        .filter(\n",
    "            pl.col(\"Date\") > arrow.now().shift(months=-2).datetime.replace(tzinfo=None)\n",
    "        )\n",
    "        .with_columns(\n",
    "            [\n",
    "                pl.first(\"200 SMA\").alias(\"200 SMA 2 month\"),\n",
    "                pl.first(\"150 SMA\").alias(\"150 SMA 2 month\"),\n",
    "            ]\n",
    "        )\n",
    "          \n",
    "        # get the 1 month old values\n",
    "        .filter(\n",
    "            pl.col(\"Date\") > arrow.now().shift(months=-1).datetime.replace(tzinfo=None)\n",
    "        )\n",
    "    \n",
    "        # add columns for the previous values\n",
    "        .with_columns(\n",
    "            [\n",
    "                pl.first(\"200 SMA\").alias(\"200 SMA 1 month\"),\n",
    "                pl.first(\"150 SMA\").alias(\"150 SMA 1 month\"),\n",
    "                pl.first(\"50 SMA\").alias(\"50 SMA 1 month\"),\n",
    "                pl.first(\"RSI\").alias(\"RSI 1 month\"),\n",
    "            ]\n",
    "        )\n",
    "          \n",
    "        # we only need the last column to process the conditions\n",
    "        .last()\n",
    "          \n",
    "        # apply the conditions as new columns\n",
    "        .with_columns(\n",
    "            [\n",
    "                (pl.col(\"Adj Close\") > (1.3 * pl.col(\"52 week low\"))).alias(\"condition 1\"),\n",
    "                (pl.col(\"Adj Close\") < (0.9 * pl.col(\"52 week high\"))).alias(\"condition 2\"),\n",
    "                (pl.col(\"Adj Close\") > pl.col(\"50 SMA\")).alias(\"condition 3\"),\n",
    "                (pl.col(\"50 SMA\") > pl.col(\"150 SMA\")).alias(\"condition 4\"),\n",
    "                (pl.col(\"150 SMA\") > pl.col(\"200 SMA\")).alias(\"condition 5\"),\n",
    "                (pl.col(\"200 SMA\") > pl.col(\"200 SMA 1 month\")).alias(\"condition 6\"),\n",
    "                (pl.col(\"RSI 1 month\") >= 80.0).alias(\"condition 7\"),\n",
    "            ]\n",
    "        )\n",
    "          \n",
    "        # selet the condition columns which are boolean types\n",
    "        .select(\n",
    "            pl.col(pl.Boolean)\n",
    "        )\n",
    "    )\n",
    "    # collect the content (last row of boolean values) and use the all() function\n",
    "    # on the list to test if the stock meets all of the criteria. i.e. if all the\n",
    "    # values are true then the return value from all() is true.\n",
    "    return all(list(lf.collect().row(0)))"
   ]
  },
  {
   "cell_type": "code",
   "execution_count": 4,
   "id": "99e82030-4b3b-4f7f-bb25-d9427f57e03e",
   "metadata": {},
   "outputs": [],
   "source": [
    "def process_candidates():\n",
    "    candidates = []\n",
    "    for filename in tqdm(file_list, desc=\"Finding Momentum...\"):\n",
    "        symbol = filename.split(\"\\\\\")[-1].split(\".\")[0]\n",
    "        if momentum_algo(filename):\n",
    "            candidates.append(symbol)\n",
    "    return candidates"
   ]
  },
  {
   "cell_type": "code",
   "execution_count": 5,
   "id": "76b661b2-9849-444b-a504-72dfbaa35af3",
   "metadata": {},
   "outputs": [
    {
     "data": {
      "application/vnd.jupyter.widget-view+json": {
       "model_id": "913d6997dda4442fb3bf310a596330a2",
       "version_major": 2,
       "version_minor": 0
      },
      "text/plain": [
       "Finding Momentum...:   0%|          | 0/3 [00:00<?, ?it/s]"
      ]
     },
     "metadata": {},
     "output_type": "display_data"
    },
    {
     "data": {
      "text/plain": [
       "[]"
      ]
     },
     "execution_count": 5,
     "metadata": {},
     "output_type": "execute_result"
    }
   ],
   "source": [
    "process_candidates()"
   ]
  },
  {
   "cell_type": "code",
   "execution_count": null,
   "id": "c06909bc-d431-47d2-81c8-1cae08f923f6",
   "metadata": {},
   "outputs": [],
   "source": []
  }
 ],
 "metadata": {
  "kernelspec": {
   "display_name": "Python 3 (ipykernel)",
   "language": "python",
   "name": "python3"
  },
  "language_info": {
   "codemirror_mode": {
    "name": "ipython",
    "version": 3
   },
   "file_extension": ".py",
   "mimetype": "text/x-python",
   "name": "python",
   "nbconvert_exporter": "python",
   "pygments_lexer": "ipython3",
   "version": "3.11.1"
  }
 },
 "nbformat": 4,
 "nbformat_minor": 5
}
