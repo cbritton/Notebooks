{
 "cells": [
  {
   "cell_type": "markdown",
   "id": "63f3e700-41e8-4ff8-aa6b-7ac98d2917a9",
   "metadata": {},
   "source": [
    "# Momentum Strategy\n",
    "\n",
    "Sample momentum algorithm using polars.\n",
    "\n",
    "Using daily data, apply these rules to find stocks ready to take off.\n",
    "\n",
    "- close > 1.3 of the 52 week low\n",
    "- close < .9 of the 52 week high \n",
    "- close > 50 day simple moving average (SMA)\n",
    "- 50 day SMA> 150 day SMA\n",
    "- 150 day SMA > 200 day SMA\n",
    "- 200 day SMA > 200 day SMA from 1 month ago\n",
    "- RSI 1 month ago >= 80"
   ]
  },
  {
   "cell_type": "code",
   "execution_count": 1,
   "id": "99856fba-67f7-4646-9868-2845dd1880f1",
   "metadata": {},
   "outputs": [],
   "source": [
    "import polars as pl\n",
    "import arrow\n",
    "import talib\n",
    "from glob import glob\n",
    "from tqdm.notebook import tqdm"
   ]
  },
  {
   "cell_type": "code",
   "execution_count": 2,
   "id": "7ea91c58-ecf2-4e65-8702-7ff1fbdb56ce",
   "metadata": {},
   "outputs": [],
   "source": [
    "# use glob to grab the list of parquet files\n",
    "daily_dir = \"./data/daily\"\n",
    "file_list = glob(f\"{daily_dir}/*.parquet\")"
   ]
  },
  {
   "cell_type": "code",
   "execution_count": 3,
   "id": "db6c921c-2495-4206-8123-d20013de3005",
   "metadata": {},
   "outputs": [],
   "source": [
    "def momentum_algo(filename, rsi_lookback=14):\n",
    "    lf=(pl.scan_parquet(filename)\n",
    "        \n",
    "        # only need to calculate the last 52 weeks\n",
    "        .filter(\n",
    "            pl.col(\"Date\") > arrow.now().shift(weeks=-52).datetime.replace(tzinfo=None)\n",
    "        )\n",
    "        .sort(\"Date\")\n",
    "        \n",
    "        # some basic TA functions\n",
    "        .with_columns(\n",
    "            [\n",
    "                pl.col(\"Adj Close\").rolling_mean(window_size=200).alias(\"200 SMA\"),\n",
    "                pl.col(\"Adj Close\").rolling_mean(window_size=150).alias(\"150 SMA\"),\n",
    "                pl.col(\"Adj Close\").rolling_mean(window_size=50).alias(\"50 SMA\"),\n",
    "                \n",
    "                # For RSI, we use the rolling_map function. The map returns a list\n",
    "                # in the rolling period which is sent to the talib.RSI function.\n",
    "                # Since we only need the last data value from the RSI computation, \n",
    "                # we just grab the last element.\n",
    "                pl.col(\"Adj Close\").rolling_map(\n",
    "                    # the timeperiod for RSI is 1 less than the length of data.\n",
    "                    lambda d: talib.RSI(d.to_numpy(), timeperiod=(len(d)-1))[-1],\n",
    "                    window_size=rsi_lookback\n",
    "                ).alias(\"RSI\"),\n",
    "                pl.col(\"High\").max().alias(\"52 week high\"),\n",
    "                pl.col(\"Low\").min().alias(\"52 week low\"),\n",
    "            ]\n",
    "        )\n",
    "        \n",
    "        # get the 2 month old values\n",
    "        .filter(\n",
    "            pl.col(\"Date\") > arrow.now().shift(months=-2).datetime.replace(tzinfo=None)\n",
    "        )\n",
    "        .with_columns(\n",
    "            [\n",
    "                pl.first(\"200 SMA\").alias(\"200 SMA 2 month\"),\n",
    "                pl.first(\"150 SMA\").alias(\"150 SMA 2 month\"),\n",
    "            ]\n",
    "        )\n",
    "          \n",
    "        # get the 1 month old values\n",
    "        .filter(\n",
    "            pl.col(\"Date\") > arrow.now().shift(months=-1).datetime.replace(tzinfo=None)\n",
    "        )\n",
    "    \n",
    "        # add columns for the previous values\n",
    "        .with_columns(\n",
    "            [\n",
    "                pl.first(\"200 SMA\").alias(\"200 SMA 1 month\"),\n",
    "                pl.first(\"150 SMA\").alias(\"150 SMA 1 month\"),\n",
    "                pl.first(\"50 SMA\").alias(\"50 SMA 1 month\"),\n",
    "                pl.first(\"RSI\").alias(\"RSI 1 month\"),\n",
    "            ]\n",
    "        )\n",
    "          \n",
    "        # we only need the last column to process the conditions\n",
    "        .last()\n",
    "          \n",
    "        # apply the conditions as new columns\n",
    "        .with_columns(\n",
    "            [\n",
    "                (pl.col(\"Adj Close\") > (1.3 * pl.col(\"52 week low\"))).alias(\"condition 1\"),\n",
    "                (pl.col(\"Adj Close\") < (0.9 * pl.col(\"52 week high\"))).alias(\"condition 2\"),\n",
    "                (pl.col(\"Adj Close\") > pl.col(\"50 SMA\")).alias(\"condition 3\"),\n",
    "                (pl.col(\"50 SMA\") > pl.col(\"150 SMA\")).alias(\"condition 4\"),\n",
    "                (pl.col(\"150 SMA\") > pl.col(\"200 SMA\")).alias(\"condition 5\"),\n",
    "                (pl.col(\"200 SMA\") > pl.col(\"200 SMA 1 month\")).alias(\"condition 6\"),\n",
    "                (pl.col(\"RSI 1 month\") >= 80.0).alias(\"condition 7\"),\n",
    "            ]\n",
    "        )\n",
    "          \n",
    "        # selet the condition columns which are boolean types\n",
    "        .select(\n",
    "            pl.col(pl.Boolean)\n",
    "        )\n",
    "    )\n",
    "    # collect the content (last row of boolean values) and use the all() function\n",
    "    # on the list to test if the stock meets all of the criteria. i.e. if all the\n",
    "    # values are true then the return value from all() is true.\n",
    "    return all(list(lf.collect().row(0)))"
   ]
  },
  {
   "cell_type": "code",
   "execution_count": 4,
   "id": "99e82030-4b3b-4f7f-bb25-d9427f57e03e",
   "metadata": {},
   "outputs": [],
   "source": [
    "def process_candidates():\n",
    "    candidates = []\n",
    "    for filename in tqdm(file_list, desc=\"Finding Momentum...\"):\n",
    "        symbol = filename.split(\"\\\\\")[-1].split(\".\")[0]\n",
    "        if momentum_algo(filename):\n",
    "            candidates.append(symbol)\n",
    "    return candidates"
   ]
  },
  {
   "cell_type": "code",
   "execution_count": 5,
   "id": "76b661b2-9849-444b-a504-72dfbaa35af3",
   "metadata": {},
   "outputs": [
    {
     "data": {
      "application/vnd.jupyter.widget-view+json": {
       "model_id": "ca2e4d288e504e45966f5d6f443338c5",
       "version_major": 2,
       "version_minor": 0
      },
      "text/plain": [
       "Finding Momentum...:   0%|          | 0/3 [00:00<?, ?it/s]"
      ]
     },
     "metadata": {},
     "output_type": "display_data"
    },
    {
     "ename": "AttributeError",
     "evalue": "'Expr' object has no attribute 'rolling_map'",
     "output_type": "error",
     "traceback": [
      "\u001b[1;31m---------------------------------------------------------------------------\u001b[0m",
      "\u001b[1;31mAttributeError\u001b[0m                            Traceback (most recent call last)",
      "Cell \u001b[1;32mIn[5], line 1\u001b[0m\n\u001b[1;32m----> 1\u001b[0m \u001b[43mprocess_candidates\u001b[49m\u001b[43m(\u001b[49m\u001b[43m)\u001b[49m\n",
      "Cell \u001b[1;32mIn[4], line 5\u001b[0m, in \u001b[0;36mprocess_candidates\u001b[1;34m()\u001b[0m\n\u001b[0;32m      3\u001b[0m \u001b[38;5;28;01mfor\u001b[39;00m filename \u001b[38;5;129;01min\u001b[39;00m tqdm(file_list, desc\u001b[38;5;241m=\u001b[39m\u001b[38;5;124m\"\u001b[39m\u001b[38;5;124mFinding Momentum...\u001b[39m\u001b[38;5;124m\"\u001b[39m):\n\u001b[0;32m      4\u001b[0m     symbol \u001b[38;5;241m=\u001b[39m filename\u001b[38;5;241m.\u001b[39msplit(\u001b[38;5;124m\"\u001b[39m\u001b[38;5;130;01m\\\\\u001b[39;00m\u001b[38;5;124m\"\u001b[39m)[\u001b[38;5;241m-\u001b[39m\u001b[38;5;241m1\u001b[39m]\u001b[38;5;241m.\u001b[39msplit(\u001b[38;5;124m\"\u001b[39m\u001b[38;5;124m.\u001b[39m\u001b[38;5;124m\"\u001b[39m)[\u001b[38;5;241m0\u001b[39m]\n\u001b[1;32m----> 5\u001b[0m     \u001b[38;5;28;01mif\u001b[39;00m \u001b[43mmomentum_algo\u001b[49m\u001b[43m(\u001b[49m\u001b[43mfilename\u001b[49m\u001b[43m)\u001b[49m:\n\u001b[0;32m      6\u001b[0m         candidates\u001b[38;5;241m.\u001b[39mappend(symbol)\n\u001b[0;32m      7\u001b[0m \u001b[38;5;28;01mreturn\u001b[39;00m candidates\n",
      "Cell \u001b[1;32mIn[3], line 21\u001b[0m, in \u001b[0;36mmomentum_algo\u001b[1;34m(filename, rsi_lookback)\u001b[0m\n\u001b[0;32m      1\u001b[0m \u001b[38;5;28;01mdef\u001b[39;00m \u001b[38;5;21mmomentum_algo\u001b[39m(filename, rsi_lookback\u001b[38;5;241m=\u001b[39m\u001b[38;5;241m14\u001b[39m):\n\u001b[0;32m      2\u001b[0m     lf\u001b[38;5;241m=\u001b[39m(pl\u001b[38;5;241m.\u001b[39mscan_parquet(filename)\n\u001b[0;32m      3\u001b[0m         \n\u001b[0;32m      4\u001b[0m         \u001b[38;5;66;03m# only need to calculate the last 52 weeks\u001b[39;00m\n\u001b[0;32m      5\u001b[0m         \u001b[38;5;241m.\u001b[39mfilter(\n\u001b[0;32m      6\u001b[0m             pl\u001b[38;5;241m.\u001b[39mcol(\u001b[38;5;124m\"\u001b[39m\u001b[38;5;124mDate\u001b[39m\u001b[38;5;124m\"\u001b[39m) \u001b[38;5;241m>\u001b[39m arrow\u001b[38;5;241m.\u001b[39mnow()\u001b[38;5;241m.\u001b[39mshift(weeks\u001b[38;5;241m=\u001b[39m\u001b[38;5;241m-\u001b[39m\u001b[38;5;241m52\u001b[39m)\u001b[38;5;241m.\u001b[39mdatetime\u001b[38;5;241m.\u001b[39mreplace(tzinfo\u001b[38;5;241m=\u001b[39m\u001b[38;5;28;01mNone\u001b[39;00m)\n\u001b[0;32m      7\u001b[0m         )\n\u001b[0;32m      8\u001b[0m         \u001b[38;5;241m.\u001b[39msort(\u001b[38;5;124m\"\u001b[39m\u001b[38;5;124mDate\u001b[39m\u001b[38;5;124m\"\u001b[39m)\n\u001b[0;32m      9\u001b[0m         \n\u001b[0;32m     10\u001b[0m         \u001b[38;5;66;03m# some basic TA functions\u001b[39;00m\n\u001b[0;32m     11\u001b[0m         \u001b[38;5;241m.\u001b[39mwith_columns(\n\u001b[0;32m     12\u001b[0m             [\n\u001b[0;32m     13\u001b[0m                 pl\u001b[38;5;241m.\u001b[39mcol(\u001b[38;5;124m\"\u001b[39m\u001b[38;5;124mAdj Close\u001b[39m\u001b[38;5;124m\"\u001b[39m)\u001b[38;5;241m.\u001b[39mrolling_mean(window_size\u001b[38;5;241m=\u001b[39m\u001b[38;5;241m200\u001b[39m)\u001b[38;5;241m.\u001b[39malias(\u001b[38;5;124m\"\u001b[39m\u001b[38;5;124m200 SMA\u001b[39m\u001b[38;5;124m\"\u001b[39m),\n\u001b[0;32m     14\u001b[0m                 pl\u001b[38;5;241m.\u001b[39mcol(\u001b[38;5;124m\"\u001b[39m\u001b[38;5;124mAdj Close\u001b[39m\u001b[38;5;124m\"\u001b[39m)\u001b[38;5;241m.\u001b[39mrolling_mean(window_size\u001b[38;5;241m=\u001b[39m\u001b[38;5;241m150\u001b[39m)\u001b[38;5;241m.\u001b[39malias(\u001b[38;5;124m\"\u001b[39m\u001b[38;5;124m150 SMA\u001b[39m\u001b[38;5;124m\"\u001b[39m),\n\u001b[0;32m     15\u001b[0m                 pl\u001b[38;5;241m.\u001b[39mcol(\u001b[38;5;124m\"\u001b[39m\u001b[38;5;124mAdj Close\u001b[39m\u001b[38;5;124m\"\u001b[39m)\u001b[38;5;241m.\u001b[39mrolling_mean(window_size\u001b[38;5;241m=\u001b[39m\u001b[38;5;241m50\u001b[39m)\u001b[38;5;241m.\u001b[39malias(\u001b[38;5;124m\"\u001b[39m\u001b[38;5;124m50 SMA\u001b[39m\u001b[38;5;124m\"\u001b[39m),\n\u001b[0;32m     16\u001b[0m                 \n\u001b[0;32m     17\u001b[0m                 \u001b[38;5;66;03m# For RSI, we use the rolling_map function. The map returns a list\u001b[39;00m\n\u001b[0;32m     18\u001b[0m                 \u001b[38;5;66;03m# in the rolling period which is sent to the talib.RSI function.\u001b[39;00m\n\u001b[0;32m     19\u001b[0m                 \u001b[38;5;66;03m# Since we only need the last data value from the RSI computation, \u001b[39;00m\n\u001b[0;32m     20\u001b[0m                 \u001b[38;5;66;03m# we just grab the last element.\u001b[39;00m\n\u001b[1;32m---> 21\u001b[0m                 \u001b[43mpl\u001b[49m\u001b[38;5;241;43m.\u001b[39;49m\u001b[43mcol\u001b[49m\u001b[43m(\u001b[49m\u001b[38;5;124;43m\"\u001b[39;49m\u001b[38;5;124;43mAdj Close\u001b[39;49m\u001b[38;5;124;43m\"\u001b[39;49m\u001b[43m)\u001b[49m\u001b[38;5;241;43m.\u001b[39;49m\u001b[43mrolling_map\u001b[49m(\n\u001b[0;32m     22\u001b[0m                     \u001b[38;5;66;03m# the timeperiod for RSI is 1 less than the length of data.\u001b[39;00m\n\u001b[0;32m     23\u001b[0m                     \u001b[38;5;28;01mlambda\u001b[39;00m d: talib\u001b[38;5;241m.\u001b[39mRSI(d\u001b[38;5;241m.\u001b[39mto_numpy(), timeperiod\u001b[38;5;241m=\u001b[39m(\u001b[38;5;28mlen\u001b[39m(d)\u001b[38;5;241m-\u001b[39m\u001b[38;5;241m1\u001b[39m))[\u001b[38;5;241m-\u001b[39m\u001b[38;5;241m1\u001b[39m],\n\u001b[0;32m     24\u001b[0m                     window_size\u001b[38;5;241m=\u001b[39mrsi_lookback\n\u001b[0;32m     25\u001b[0m                 )\u001b[38;5;241m.\u001b[39malias(\u001b[38;5;124m\"\u001b[39m\u001b[38;5;124mRSI\u001b[39m\u001b[38;5;124m\"\u001b[39m),\n\u001b[0;32m     26\u001b[0m                 pl\u001b[38;5;241m.\u001b[39mcol(\u001b[38;5;124m\"\u001b[39m\u001b[38;5;124mHigh\u001b[39m\u001b[38;5;124m\"\u001b[39m)\u001b[38;5;241m.\u001b[39mmax()\u001b[38;5;241m.\u001b[39malias(\u001b[38;5;124m\"\u001b[39m\u001b[38;5;124m52 week high\u001b[39m\u001b[38;5;124m\"\u001b[39m),\n\u001b[0;32m     27\u001b[0m                 pl\u001b[38;5;241m.\u001b[39mcol(\u001b[38;5;124m\"\u001b[39m\u001b[38;5;124mLow\u001b[39m\u001b[38;5;124m\"\u001b[39m)\u001b[38;5;241m.\u001b[39mmin()\u001b[38;5;241m.\u001b[39malias(\u001b[38;5;124m\"\u001b[39m\u001b[38;5;124m52 week low\u001b[39m\u001b[38;5;124m\"\u001b[39m),\n\u001b[0;32m     28\u001b[0m             ]\n\u001b[0;32m     29\u001b[0m         )\n\u001b[0;32m     30\u001b[0m         \n\u001b[0;32m     31\u001b[0m         \u001b[38;5;66;03m# get the 2 month old values\u001b[39;00m\n\u001b[0;32m     32\u001b[0m         \u001b[38;5;241m.\u001b[39mfilter(\n\u001b[0;32m     33\u001b[0m             pl\u001b[38;5;241m.\u001b[39mcol(\u001b[38;5;124m\"\u001b[39m\u001b[38;5;124mDate\u001b[39m\u001b[38;5;124m\"\u001b[39m) \u001b[38;5;241m>\u001b[39m arrow\u001b[38;5;241m.\u001b[39mnow()\u001b[38;5;241m.\u001b[39mshift(months\u001b[38;5;241m=\u001b[39m\u001b[38;5;241m-\u001b[39m\u001b[38;5;241m2\u001b[39m)\u001b[38;5;241m.\u001b[39mdatetime\u001b[38;5;241m.\u001b[39mreplace(tzinfo\u001b[38;5;241m=\u001b[39m\u001b[38;5;28;01mNone\u001b[39;00m)\n\u001b[0;32m     34\u001b[0m         )\n\u001b[0;32m     35\u001b[0m         \u001b[38;5;241m.\u001b[39mwith_columns(\n\u001b[0;32m     36\u001b[0m             [\n\u001b[0;32m     37\u001b[0m                 pl\u001b[38;5;241m.\u001b[39mfirst(\u001b[38;5;124m\"\u001b[39m\u001b[38;5;124m200 SMA\u001b[39m\u001b[38;5;124m\"\u001b[39m)\u001b[38;5;241m.\u001b[39malias(\u001b[38;5;124m\"\u001b[39m\u001b[38;5;124m200 SMA 2 month\u001b[39m\u001b[38;5;124m\"\u001b[39m),\n\u001b[0;32m     38\u001b[0m                 pl\u001b[38;5;241m.\u001b[39mfirst(\u001b[38;5;124m\"\u001b[39m\u001b[38;5;124m150 SMA\u001b[39m\u001b[38;5;124m\"\u001b[39m)\u001b[38;5;241m.\u001b[39malias(\u001b[38;5;124m\"\u001b[39m\u001b[38;5;124m150 SMA 2 month\u001b[39m\u001b[38;5;124m\"\u001b[39m),\n\u001b[0;32m     39\u001b[0m             ]\n\u001b[0;32m     40\u001b[0m         )\n\u001b[0;32m     41\u001b[0m           \n\u001b[0;32m     42\u001b[0m         \u001b[38;5;66;03m# get the 1 month old values\u001b[39;00m\n\u001b[0;32m     43\u001b[0m         \u001b[38;5;241m.\u001b[39mfilter(\n\u001b[0;32m     44\u001b[0m             pl\u001b[38;5;241m.\u001b[39mcol(\u001b[38;5;124m\"\u001b[39m\u001b[38;5;124mDate\u001b[39m\u001b[38;5;124m\"\u001b[39m) \u001b[38;5;241m>\u001b[39m arrow\u001b[38;5;241m.\u001b[39mnow()\u001b[38;5;241m.\u001b[39mshift(months\u001b[38;5;241m=\u001b[39m\u001b[38;5;241m-\u001b[39m\u001b[38;5;241m1\u001b[39m)\u001b[38;5;241m.\u001b[39mdatetime\u001b[38;5;241m.\u001b[39mreplace(tzinfo\u001b[38;5;241m=\u001b[39m\u001b[38;5;28;01mNone\u001b[39;00m)\n\u001b[0;32m     45\u001b[0m         )\n\u001b[0;32m     46\u001b[0m     \n\u001b[0;32m     47\u001b[0m         \u001b[38;5;66;03m# add columns for the previous values\u001b[39;00m\n\u001b[0;32m     48\u001b[0m         \u001b[38;5;241m.\u001b[39mwith_columns(\n\u001b[0;32m     49\u001b[0m             [\n\u001b[0;32m     50\u001b[0m                 pl\u001b[38;5;241m.\u001b[39mfirst(\u001b[38;5;124m\"\u001b[39m\u001b[38;5;124m200 SMA\u001b[39m\u001b[38;5;124m\"\u001b[39m)\u001b[38;5;241m.\u001b[39malias(\u001b[38;5;124m\"\u001b[39m\u001b[38;5;124m200 SMA 1 month\u001b[39m\u001b[38;5;124m\"\u001b[39m),\n\u001b[0;32m     51\u001b[0m                 pl\u001b[38;5;241m.\u001b[39mfirst(\u001b[38;5;124m\"\u001b[39m\u001b[38;5;124m150 SMA\u001b[39m\u001b[38;5;124m\"\u001b[39m)\u001b[38;5;241m.\u001b[39malias(\u001b[38;5;124m\"\u001b[39m\u001b[38;5;124m150 SMA 1 month\u001b[39m\u001b[38;5;124m\"\u001b[39m),\n\u001b[0;32m     52\u001b[0m                 pl\u001b[38;5;241m.\u001b[39mfirst(\u001b[38;5;124m\"\u001b[39m\u001b[38;5;124m50 SMA\u001b[39m\u001b[38;5;124m\"\u001b[39m)\u001b[38;5;241m.\u001b[39malias(\u001b[38;5;124m\"\u001b[39m\u001b[38;5;124m50 SMA 1 month\u001b[39m\u001b[38;5;124m\"\u001b[39m),\n\u001b[0;32m     53\u001b[0m                 pl\u001b[38;5;241m.\u001b[39mfirst(\u001b[38;5;124m\"\u001b[39m\u001b[38;5;124mRSI\u001b[39m\u001b[38;5;124m\"\u001b[39m)\u001b[38;5;241m.\u001b[39malias(\u001b[38;5;124m\"\u001b[39m\u001b[38;5;124mRSI 1 month\u001b[39m\u001b[38;5;124m\"\u001b[39m),\n\u001b[0;32m     54\u001b[0m             ]\n\u001b[0;32m     55\u001b[0m         )\n\u001b[0;32m     56\u001b[0m           \n\u001b[0;32m     57\u001b[0m         \u001b[38;5;66;03m# we only need the last column to process the conditions\u001b[39;00m\n\u001b[0;32m     58\u001b[0m         \u001b[38;5;241m.\u001b[39mlast()\n\u001b[0;32m     59\u001b[0m           \n\u001b[0;32m     60\u001b[0m         \u001b[38;5;66;03m# apply the conditions as new columns\u001b[39;00m\n\u001b[0;32m     61\u001b[0m         \u001b[38;5;241m.\u001b[39mwith_columns(\n\u001b[0;32m     62\u001b[0m             [\n\u001b[0;32m     63\u001b[0m                 (pl\u001b[38;5;241m.\u001b[39mcol(\u001b[38;5;124m\"\u001b[39m\u001b[38;5;124mAdj Close\u001b[39m\u001b[38;5;124m\"\u001b[39m) \u001b[38;5;241m>\u001b[39m (\u001b[38;5;241m1.3\u001b[39m \u001b[38;5;241m*\u001b[39m pl\u001b[38;5;241m.\u001b[39mcol(\u001b[38;5;124m\"\u001b[39m\u001b[38;5;124m52 week low\u001b[39m\u001b[38;5;124m\"\u001b[39m)))\u001b[38;5;241m.\u001b[39malias(\u001b[38;5;124m\"\u001b[39m\u001b[38;5;124mcondition 1\u001b[39m\u001b[38;5;124m\"\u001b[39m),\n\u001b[0;32m     64\u001b[0m                 (pl\u001b[38;5;241m.\u001b[39mcol(\u001b[38;5;124m\"\u001b[39m\u001b[38;5;124mAdj Close\u001b[39m\u001b[38;5;124m\"\u001b[39m) \u001b[38;5;241m<\u001b[39m (\u001b[38;5;241m0.9\u001b[39m \u001b[38;5;241m*\u001b[39m pl\u001b[38;5;241m.\u001b[39mcol(\u001b[38;5;124m\"\u001b[39m\u001b[38;5;124m52 week high\u001b[39m\u001b[38;5;124m\"\u001b[39m)))\u001b[38;5;241m.\u001b[39malias(\u001b[38;5;124m\"\u001b[39m\u001b[38;5;124mcondition 2\u001b[39m\u001b[38;5;124m\"\u001b[39m),\n\u001b[0;32m     65\u001b[0m                 (pl\u001b[38;5;241m.\u001b[39mcol(\u001b[38;5;124m\"\u001b[39m\u001b[38;5;124mAdj Close\u001b[39m\u001b[38;5;124m\"\u001b[39m) \u001b[38;5;241m>\u001b[39m pl\u001b[38;5;241m.\u001b[39mcol(\u001b[38;5;124m\"\u001b[39m\u001b[38;5;124m50 SMA\u001b[39m\u001b[38;5;124m\"\u001b[39m))\u001b[38;5;241m.\u001b[39malias(\u001b[38;5;124m\"\u001b[39m\u001b[38;5;124mcondition 3\u001b[39m\u001b[38;5;124m\"\u001b[39m),\n\u001b[0;32m     66\u001b[0m                 (pl\u001b[38;5;241m.\u001b[39mcol(\u001b[38;5;124m\"\u001b[39m\u001b[38;5;124m50 SMA\u001b[39m\u001b[38;5;124m\"\u001b[39m) \u001b[38;5;241m>\u001b[39m pl\u001b[38;5;241m.\u001b[39mcol(\u001b[38;5;124m\"\u001b[39m\u001b[38;5;124m150 SMA\u001b[39m\u001b[38;5;124m\"\u001b[39m))\u001b[38;5;241m.\u001b[39malias(\u001b[38;5;124m\"\u001b[39m\u001b[38;5;124mcondition 4\u001b[39m\u001b[38;5;124m\"\u001b[39m),\n\u001b[0;32m     67\u001b[0m                 (pl\u001b[38;5;241m.\u001b[39mcol(\u001b[38;5;124m\"\u001b[39m\u001b[38;5;124m150 SMA\u001b[39m\u001b[38;5;124m\"\u001b[39m) \u001b[38;5;241m>\u001b[39m pl\u001b[38;5;241m.\u001b[39mcol(\u001b[38;5;124m\"\u001b[39m\u001b[38;5;124m200 SMA\u001b[39m\u001b[38;5;124m\"\u001b[39m))\u001b[38;5;241m.\u001b[39malias(\u001b[38;5;124m\"\u001b[39m\u001b[38;5;124mcondition 5\u001b[39m\u001b[38;5;124m\"\u001b[39m),\n\u001b[0;32m     68\u001b[0m                 (pl\u001b[38;5;241m.\u001b[39mcol(\u001b[38;5;124m\"\u001b[39m\u001b[38;5;124m200 SMA\u001b[39m\u001b[38;5;124m\"\u001b[39m) \u001b[38;5;241m>\u001b[39m pl\u001b[38;5;241m.\u001b[39mcol(\u001b[38;5;124m\"\u001b[39m\u001b[38;5;124m200 SMA 1 month\u001b[39m\u001b[38;5;124m\"\u001b[39m))\u001b[38;5;241m.\u001b[39malias(\u001b[38;5;124m\"\u001b[39m\u001b[38;5;124mcondition 6\u001b[39m\u001b[38;5;124m\"\u001b[39m),\n\u001b[0;32m     69\u001b[0m                 (pl\u001b[38;5;241m.\u001b[39mcol(\u001b[38;5;124m\"\u001b[39m\u001b[38;5;124mRSI 1 month\u001b[39m\u001b[38;5;124m\"\u001b[39m) \u001b[38;5;241m>\u001b[39m\u001b[38;5;241m=\u001b[39m \u001b[38;5;241m80.0\u001b[39m)\u001b[38;5;241m.\u001b[39malias(\u001b[38;5;124m\"\u001b[39m\u001b[38;5;124mcondition 7\u001b[39m\u001b[38;5;124m\"\u001b[39m),\n\u001b[0;32m     70\u001b[0m             ]\n\u001b[0;32m     71\u001b[0m         )\n\u001b[0;32m     72\u001b[0m           \n\u001b[0;32m     73\u001b[0m         \u001b[38;5;66;03m# selet the condition columns which are boolean types\u001b[39;00m\n\u001b[0;32m     74\u001b[0m         \u001b[38;5;241m.\u001b[39mselect(\n\u001b[0;32m     75\u001b[0m             pl\u001b[38;5;241m.\u001b[39mcol(pl\u001b[38;5;241m.\u001b[39mBoolean)\n\u001b[0;32m     76\u001b[0m         )\n\u001b[0;32m     77\u001b[0m     )\n\u001b[0;32m     78\u001b[0m     \u001b[38;5;66;03m# collect the content (last row of boolean values) and use the all() function\u001b[39;00m\n\u001b[0;32m     79\u001b[0m     \u001b[38;5;66;03m# on the list to test if the stock meets all of the criteria. i.e. if all the\u001b[39;00m\n\u001b[0;32m     80\u001b[0m     \u001b[38;5;66;03m# values are true then the return value from all() is true.\u001b[39;00m\n\u001b[0;32m     81\u001b[0m     \u001b[38;5;28;01mreturn\u001b[39;00m \u001b[38;5;28mall\u001b[39m(\u001b[38;5;28mlist\u001b[39m(lf\u001b[38;5;241m.\u001b[39mcollect()\u001b[38;5;241m.\u001b[39mrow(\u001b[38;5;241m0\u001b[39m)))\n",
      "\u001b[1;31mAttributeError\u001b[0m: 'Expr' object has no attribute 'rolling_map'"
     ]
    }
   ],
   "source": [
    "process_candidates()"
   ]
  },
  {
   "cell_type": "code",
   "execution_count": null,
   "id": "c06909bc-d431-47d2-81c8-1cae08f923f6",
   "metadata": {},
   "outputs": [],
   "source": []
  }
 ],
 "metadata": {
  "kernelspec": {
   "display_name": "Python 3 (ipykernel)",
   "language": "python",
   "name": "python3"
  },
  "language_info": {
   "codemirror_mode": {
    "name": "ipython",
    "version": 3
   },
   "file_extension": ".py",
   "mimetype": "text/x-python",
   "name": "python",
   "nbconvert_exporter": "python",
   "pygments_lexer": "ipython3",
   "version": "3.11.1"
  }
 },
 "nbformat": 4,
 "nbformat_minor": 5
}
